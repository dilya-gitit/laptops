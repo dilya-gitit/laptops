{
 "cells": [
  {
   "cell_type": "code",
   "execution_count": 42,
   "id": "9415e1ca",
   "metadata": {},
   "outputs": [],
   "source": [
    "import pandas as pd\n",
    "import numpy as np\n",
    "import tensorflow\n",
    "from sklearn.model_selection import train_test_split\n",
    "from sklearn.metrics import mean_squared_error\n",
    "from tensorflow import keras\n",
    "from tensorflow.keras import layers\n",
    "from keras.models import Sequential\n",
    "from keras.layers import Dense\n",
    "from keras.wrappers.scikit_learn import KerasRegressor\n",
    "from keras import backend as K\n",
    "from tensorflow.keras.layers import Dropout"
   ]
  },
  {
   "cell_type": "code",
   "execution_count": 9,
   "id": "55cf54bc",
   "metadata": {},
   "outputs": [],
   "source": [
    "df = pd.read_csv('output.csv')"
   ]
  },
  {
   "cell_type": "code",
   "execution_count": 10,
   "id": "a7f5c4c7",
   "metadata": {},
   "outputs": [],
   "source": [
    "df = df.dropna()"
   ]
  },
  {
   "cell_type": "code",
   "execution_count": 11,
   "id": "378d1def",
   "metadata": {},
   "outputs": [],
   "source": [
    "brand_counts = df['Brand'].value_counts()\n",
    "\n",
    "brands_to_keep = brand_counts[brand_counts >= 6].index.tolist()\n",
    "\n",
    "df = df[df['Brand'].isin(brands_to_keep)]"
   ]
  },
  {
   "cell_type": "code",
   "execution_count": 12,
   "id": "0087a968",
   "metadata": {},
   "outputs": [],
   "source": [
    "categorical_columns = df.select_dtypes(include=['object', 'category']).columns.tolist()\n",
    "numeric_columns = df.select_dtypes(include=['number']).columns.tolist()"
   ]
  },
  {
   "cell_type": "code",
   "execution_count": 13,
   "id": "f5c6c8d2",
   "metadata": {},
   "outputs": [],
   "source": [
    "df_dummy = pd.get_dummies(df, columns = categorical_columns)\n",
    "df = df.merge(df_dummy, left_index = False, right_index = False)\n",
    "\n",
    "df = df.drop(columns = categorical_columns)"
   ]
  },
  {
   "cell_type": "code",
   "execution_count": 14,
   "id": "a677ae0d",
   "metadata": {},
   "outputs": [],
   "source": [
    "req = df[\"Price\"]\n",
    "ar = list(req)\n",
    "for i in range(len(ar)):\n",
    "    ar[i] = float(ar[i])\n",
    "del df[\"Price\"]\n",
    "df[\"Price\"] = pd.DataFrame(ar)"
   ]
  },
  {
   "cell_type": "code",
   "execution_count": 15,
   "id": "22d83b02",
   "metadata": {},
   "outputs": [],
   "source": [
    "X = df.drop(columns = ['Price'])\n",
    "Y = df['Price']\n",
    "\n",
    "X_train, X_test, y_train, y_test = train_test_split(X, Y, test_size = 0.25)"
   ]
  },
  {
   "cell_type": "code",
   "execution_count": 44,
   "id": "ac9733ab",
   "metadata": {},
   "outputs": [],
   "source": [
    "np.random.seed(123)\n",
    "\n",
    "def root_mean_squared_error(y_true, y_pred):\n",
    "        return K.sqrt(K.mean(K.square(y_pred - y_true))) \n",
    "\n",
    "def create_model(learn_rate = 0.001, activation = 'relu', neurons = 128):\n",
    "    model = Sequential()\n",
    "    model.add(Dense(neurons, input_dim = len(X_train.columns), kernel_initializer = 'normal', activation = 'relu'))\n",
    "    model.add(Dense(64, activation = 'relu'))\n",
    "    model.add(Dense(32, activation = 'relu'))\n",
    "    model.add(Dense(16, activation = 'relu'))\n",
    "    model.add(Dense(1))\n",
    "    opt = keras.optimizers.Adam(learning_rate = learn_rate)\n",
    "    model.compile(loss = root_mean_squared_error, optimizer = 'adam')\n",
    "    return model"
   ]
  },
  {
   "cell_type": "code",
   "execution_count": 45,
   "id": "d10d453d",
   "metadata": {},
   "outputs": [
    {
     "name": "stdout",
     "output_type": "stream",
     "text": [
      "Epoch 00114: early stopping\n"
     ]
    }
   ],
   "source": [
    "model = KerasRegressor(build_fn = create_model, verbose = 0)\n",
    "callbacks = [keras.callbacks.EarlyStopping(monitor = \"val_loss\", patience = 15, verbose = 1)]\n",
    "\n",
    "history = model.fit(X_train, y_train, epochs = 500, batch_size = 1, validation_split = 0.25, verbose = 0, callbacks = callbacks)"
   ]
  },
  {
   "cell_type": "code",
   "execution_count": 46,
   "id": "7e1a09d0",
   "metadata": {},
   "outputs": [
    {
     "name": "stdout",
     "output_type": "stream",
     "text": [
      "219149.94\n"
     ]
    }
   ],
   "source": [
    "X = X_test.iloc[1].values\n",
    "X = X.reshape(1, -1)\n",
    "\n",
    "predicted_price = model.predict(X)\n",
    "print(predicted_price)"
   ]
  },
  {
   "cell_type": "code",
   "execution_count": 47,
   "id": "2c6e70c7",
   "metadata": {},
   "outputs": [
    {
     "data": {
      "text/plain": [
       "RAM                              4.0\n",
       "Width                           15.6\n",
       "SSD                            500.0\n",
       "Brand_acer                       0.0\n",
       "Brand_apple                      0.0\n",
       "Brand_asus                       0.0\n",
       "Brand_chuwi                      0.0\n",
       "Brand_dell                       0.0\n",
       "Brand_gigabyte                   0.0\n",
       "Brand_hp                         0.0\n",
       "Brand_huawei                     0.0\n",
       "Brand_lenovo                     1.0\n",
       "Brand_msi                        0.0\n",
       "Brand_zentek                     0.0\n",
       "CPU_AMD 3020e                    0.0\n",
       "CPU_AMD A6                       0.0\n",
       "CPU_AMD Athlon                   0.0\n",
       "CPU_AMD Ryzen 3                  0.0\n",
       "CPU_AMD Ryzen 5                  0.0\n",
       "CPU_AMD Ryzen 7                  0.0\n",
       "CPU_AMD Ryzen 9                  0.0\n",
       "CPU_Apple M1                     0.0\n",
       "CPU_Apple M2                     0.0\n",
       "CPU_Apple M3                     0.0\n",
       "CPU_Intel Celeron                1.0\n",
       "CPU_Intel Core Ultra 5 125H      0.0\n",
       "CPU_Intel Core Ultra 7           0.0\n",
       "CPU_Intel Core Ultra 9           0.0\n",
       "CPU_Intel Core i3                0.0\n",
       "CPU_Intel Core i5                0.0\n",
       "CPU_Intel Core i7                0.0\n",
       "CPU_Intel Core i9                0.0\n",
       "CPU_Intel N100                   0.0\n",
       "CPU_Intel N95                    0.0\n",
       "CPU_Intel Pentium                0.0\n",
       "Name: 1028, dtype: float64"
      ]
     },
     "execution_count": 47,
     "metadata": {},
     "output_type": "execute_result"
    }
   ],
   "source": [
    "X_test.iloc[1]"
   ]
  },
  {
   "cell_type": "code",
   "execution_count": 33,
   "id": "c0583be0",
   "metadata": {},
   "outputs": [],
   "source": [
    "!pip freeze -l > requirements.txt "
   ]
  },
  {
   "cell_type": "code",
   "execution_count": 43,
   "id": "7dca2046",
   "metadata": {},
   "outputs": [
    {
     "name": "stdout",
     "output_type": "stream",
     "text": [
      "2.5.0\n"
     ]
    }
   ],
   "source": [
    "print(tensorflow.__version__)"
   ]
  },
  {
   "cell_type": "code",
   "execution_count": 48,
   "id": "3f3bc1ad",
   "metadata": {},
   "outputs": [],
   "source": [
    "!pip freeze --user > requirements.txt\n"
   ]
  },
  {
   "cell_type": "code",
   "execution_count": null,
   "id": "86237948",
   "metadata": {},
   "outputs": [],
   "source": []
  }
 ],
 "metadata": {
  "kernelspec": {
   "display_name": "Python 3",
   "language": "python",
   "name": "python3"
  },
  "language_info": {
   "codemirror_mode": {
    "name": "ipython",
    "version": 3
   },
   "file_extension": ".py",
   "mimetype": "text/x-python",
   "name": "python",
   "nbconvert_exporter": "python",
   "pygments_lexer": "ipython3",
   "version": "3.6.13"
  }
 },
 "nbformat": 4,
 "nbformat_minor": 5
}
