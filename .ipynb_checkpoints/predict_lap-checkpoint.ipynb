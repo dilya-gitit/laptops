{
 "cells": [
  {
   "cell_type": "code",
   "execution_count": null,
   "id": "5e4c0d08",
   "metadata": {},
   "outputs": [],
   "source": [
    "import pandas as pd\n",
    "import numpy as np\n",
    "import tensorflow\n",
    "from sklearn.model_selection import train_test_split\n",
    "from sklearn.metrics import mean_squared_error\n",
    "from tensorflow import keras\n",
    "from tensorflow.keras import layers\n",
    "from keras.models import Sequential\n",
    "from keras.layers import Dense\n",
    "from keras.wrappers.scikit_learn import KerasRegressor\n",
    "from keras import backend as K\n",
    "from tensorflow.keras.layers import Dropout"
   ]
  },
  {
   "cell_type": "code",
   "execution_count": null,
   "id": "3bf25052",
   "metadata": {},
   "outputs": [],
   "source": []
  },
  {
   "cell_type": "code",
   "execution_count": null,
   "id": "609fbf76",
   "metadata": {},
   "outputs": [],
   "source": [
    "df = pd.read_csv('output.csv')"
   ]
  },
  {
   "cell_type": "code",
   "execution_count": null,
   "id": "72742474",
   "metadata": {},
   "outputs": [],
   "source": [
    "df = df.dropna()"
   ]
  },
  {
   "cell_type": "code",
   "execution_count": null,
   "id": "75bfcada",
   "metadata": {},
   "outputs": [],
   "source": [
    "brand_counts = df['Brand'].value_counts()\n",
    "\n",
    "brands_to_keep = brand_counts[brand_counts >= 6].index.tolist()\n",
    "\n",
    "df = df[df['Brand'].isin(brands_to_keep)]"
   ]
  },
  {
   "cell_type": "code",
   "execution_count": 12,
   "id": "b5430046",
   "metadata": {},
   "outputs": [],
   "source": [
    "categorical_columns = df.select_dtypes(include=['object', 'category']).columns.tolist()\n",
    "numeric_columns = df.select_dtypes(include=['number']).columns.tolist()"
   ]
  },
  {
   "cell_type": "code",
   "execution_count": 13,
   "id": "11c3c258",
   "metadata": {},
   "outputs": [],
   "source": [
    "df_dummy = pd.get_dummies(df, columns = categorical_columns)\n",
    "df = df.merge(df_dummy, left_index = False, right_index = False)\n",
    "\n",
    "df = df.drop(columns = categorical_columns)"
   ]
  },
  {
   "cell_type": "code",
   "execution_count": 14,
   "id": "c495e4a4",
   "metadata": {},
   "outputs": [],
   "source": [
    "req = df[\"Price\"]\n",
    "ar = list(req)\n",
    "for i in range(len(ar)):\n",
    "    ar[i] = float(ar[i])\n",
    "del df[\"Price\"]\n",
    "df[\"Price\"] = pd.DataFrame(ar)"
   ]
  },
  {
   "cell_type": "code",
   "execution_count": 15,
   "id": "c5b46728",
   "metadata": {},
   "outputs": [],
   "source": [
    "X = df.drop(columns = ['Price'])\n",
    "Y = df['Price']\n",
    "\n",
    "X_train, X_test, y_train, y_test = train_test_split(X, Y, test_size = 0.25)"
   ]
  },
  {
   "cell_type": "code",
   "execution_count": 49,
   "id": "ac1919da",
   "metadata": {},
   "outputs": [],
   "source": [
    "np.random.seed(123)\n",
    "\n",
    "def root_mean_squared_error(y_true, y_pred):\n",
    "        return K.sqrt(K.mean(K.square(y_pred - y_true))) \n",
    "\n",
    "def create_model(learn_rate = 0.001, activation = 'relu', neurons = 128):\n",
    "    model = Sequential()\n",
    "    model.add(Dense(neurons, input_dim = len(X_train.columns), kernel_initializer = 'normal', activation = 'relu'))\n",
    "    model.add(Dense(64, activation = 'relu'))\n",
    "    model.add(Dense(32, activation = 'relu'))\n",
    "    model.add(Dense(16, activation = 'relu'))\n",
    "    model.add(Dense(1))\n",
    "    opt = keras.optimizers.Adam(learning_rate = learn_rate)\n",
    "    model.compile(loss = root_mean_squared_error, optimizer = 'adam')\n",
    "    return model"
   ]
  },
  {
   "cell_type": "code",
   "execution_count": 50,
   "id": "ebdb9ee1",
   "metadata": {},
   "outputs": [
    {
     "name": "stdout",
     "output_type": "stream",
     "text": [
      "Epoch 00185: early stopping\n"
     ]
    }
   ],
   "source": [
    "model = KerasRegressor(build_fn = create_model, verbose = 0)\n",
    "callbacks = [keras.callbacks.EarlyStopping(monitor = \"val_loss\", patience = 15, verbose = 1)]\n",
    "\n",
    "history = model.fit(X_train, y_train, epochs = 500, batch_size = 1, validation_split = 0.25, verbose = 0, callbacks = callbacks)"
   ]
  },
  {
   "cell_type": "code",
   "execution_count": 51,
   "id": "701e19c9",
   "metadata": {},
   "outputs": [
    {
     "name": "stdout",
     "output_type": "stream",
     "text": [
      "241064.31\n"
     ]
    }
   ],
   "source": [
    "X = X_test.iloc[1].values\n",
    "X = X.reshape(1, -1)\n",
    "\n",
    "predicted_price = model.predict(X)\n",
    "print(predicted_price)"
   ]
  },
  {
   "cell_type": "code",
   "execution_count": 47,
   "id": "538963cf",
   "metadata": {},
   "outputs": [
    {
     "data": {
      "text/plain": [
       "RAM                              4.0\n",
       "Width                           15.6\n",
       "SSD                            500.0\n",
       "Brand_acer                       0.0\n",
       "Brand_apple                      0.0\n",
       "Brand_asus                       0.0\n",
       "Brand_chuwi                      0.0\n",
       "Brand_dell                       0.0\n",
       "Brand_gigabyte                   0.0\n",
       "Brand_hp                         0.0\n",
       "Brand_huawei                     0.0\n",
       "Brand_lenovo                     1.0\n",
       "Brand_msi                        0.0\n",
       "Brand_zentek                     0.0\n",
       "CPU_AMD 3020e                    0.0\n",
       "CPU_AMD A6                       0.0\n",
       "CPU_AMD Athlon                   0.0\n",
       "CPU_AMD Ryzen 3                  0.0\n",
       "CPU_AMD Ryzen 5                  0.0\n",
       "CPU_AMD Ryzen 7                  0.0\n",
       "CPU_AMD Ryzen 9                  0.0\n",
       "CPU_Apple M1                     0.0\n",
       "CPU_Apple M2                     0.0\n",
       "CPU_Apple M3                     0.0\n",
       "CPU_Intel Celeron                1.0\n",
       "CPU_Intel Core Ultra 5 125H      0.0\n",
       "CPU_Intel Core Ultra 7           0.0\n",
       "CPU_Intel Core Ultra 9           0.0\n",
       "CPU_Intel Core i3                0.0\n",
       "CPU_Intel Core i5                0.0\n",
       "CPU_Intel Core i7                0.0\n",
       "CPU_Intel Core i9                0.0\n",
       "CPU_Intel N100                   0.0\n",
       "CPU_Intel N95                    0.0\n",
       "CPU_Intel Pentium                0.0\n",
       "Name: 1028, dtype: float64"
      ]
     },
     "execution_count": 47,
     "metadata": {},
     "output_type": "execute_result"
    }
   ],
   "source": [
    "X_test.iloc[1]"
   ]
  },
  {
   "cell_type": "code",
   "execution_count": 52,
   "id": "6dc19742",
   "metadata": {},
   "outputs": [],
   "source": [
    "!pip freeze -l > requirements.txt "
   ]
  },
  {
   "cell_type": "code",
   "execution_count": null,
   "id": "9af5bc74",
   "metadata": {},
   "outputs": [],
   "source": []
  }
 ],
 "metadata": {
  "kernelspec": {
   "display_name": "Python 3 (ipykernel)",
   "language": "python",
   "name": "python3"
  },
  "language_info": {
   "codemirror_mode": {
    "name": "ipython",
    "version": 3
   },
   "file_extension": ".py",
   "mimetype": "text/x-python",
   "name": "python",
   "nbconvert_exporter": "python",
   "pygments_lexer": "ipython3",
   "version": "3.11.7"
  }
 },
 "nbformat": 4,
 "nbformat_minor": 5
}
